{
  "nbformat": 4,
  "nbformat_minor": 0,
  "metadata": {
    "colab": {
      "name": "EE19MTECH_Assignment 2.ipynb",
      "provenance": [],
      "collapsed_sections": []
    },
    "kernelspec": {
      "name": "python3",
      "display_name": "Python 3"
    },
    "language_info": {
      "name": "python"
    }
  },
  "cells": [
    {
      "cell_type": "code",
      "metadata": {
        "id": "Z6WYjka6023Q"
      },
      "source": [
        "import numpy as np\n",
        "import pandas as pd\n",
        "import seaborn as sns"
      ],
      "execution_count": 15,
      "outputs": []
    },
    {
      "cell_type": "code",
      "metadata": {
        "colab": {
          "base_uri": "https://localhost:8080/",
          "height": 458
        },
        "id": "kBgsYouC06-G",
        "outputId": "798310bd-4ac3-4661-cb8a-2510f00674e3"
      },
      "source": [
        "#Q3 P(x,y)\n",
        "\n",
        "np.random.seed(4)\n",
        "\n",
        "x = np.random.normal(0,1,100)\n",
        "y = 4*x + np.random.normal(0,1,100)\n",
        "\n",
        "df = pd.DataFrame({'x':x,'y':y,})\n",
        "\n",
        "sns.jointplot( x=\"x\", y=\"y\", \n",
        "              kind = \"scatter\", data =df)"
      ],
      "execution_count": 16,
      "outputs": [
        {
          "output_type": "execute_result",
          "data": {
            "text/plain": [
              "<seaborn.axisgrid.JointGrid at 0x7fbee4ebb890>"
            ]
          },
          "metadata": {
            "tags": []
          },
          "execution_count": 16
        },
        {
          "output_type": "display_data",
          "data": {
            "image/png": "[encoded data removed]",
            "text/plain": [
              "<Figure size 432x432 with 3 Axes>"
            ]
          },
          "metadata": {
            "tags": [],
            "needs_background": "light"
          }
        }
      ]
    },
    {
      "cell_type": "code",
      "metadata": {
        "colab": {
          "base_uri": "https://localhost:8080/",
          "height": 386
        },
        "id": "XYRDqHxK4U2H",
        "outputId": "fb08d305-013d-4350-8b20-1fdb87f215a1"
      },
      "source": [
        "#Q3 P(x|y=2)\n",
        "\n",
        "np.random.seed(4)\n",
        "x = np.empty(100)\n",
        "x.fill(2)\n",
        "y = 4*x + np.random.normal(0,1,100)\n",
        "\n",
        "df = pd.DataFrame({'x':x,'y':y,})\n",
        "\n",
        "\n",
        "g = sns.FacetGrid(df, col = \"x\", height = 5)\n",
        "g.map(sns.histplot, \"y\")\n"
      ],
      "execution_count": 17,
      "outputs": [
        {
          "output_type": "execute_result",
          "data": {
            "text/plain": [
              "<seaborn.axisgrid.FacetGrid at 0x7fbee4f9af10>"
            ]
          },
          "metadata": {
            "tags": []
          },
          "execution_count": 17
        },
        {
          "output_type": "display_data",
          "data": {
            "image/png": "[encoded data removed]",
            "text/plain": [
              "<Figure size 360x360 with 1 Axes>"
            ]
          },
          "metadata": {
            "tags": [],
            "needs_background": "light"
          }
        }
      ]
    },
    {
      "cell_type": "code",
      "metadata": {
        "colab": {
          "base_uri": "https://localhost:8080/",
          "height": 386
        },
        "id": "XZl6kJfEuioY",
        "outputId": "b175f9ce-9997-4674-f3e3-22c41d4b69f1"
      },
      "source": [
        "#Q3 P(x|do(y=2)) \n",
        "\n",
        "np.random.seed(4)\n",
        "x = np.empty(100)\n",
        "x.fill(2)\n",
        "y = 4*x + np.random.normal(0,1,100)\n",
        "\n",
        "df = pd.DataFrame({'x':x,'y':y,})\n",
        "\n",
        "g = sns.FacetGrid(df, col = \"x\", height = 5)\n",
        "g.map(sns.histplot, \"y\")"
      ],
      "execution_count": 18,
      "outputs": [
        {
          "output_type": "execute_result",
          "data": {
            "text/plain": [
              "<seaborn.axisgrid.FacetGrid at 0x7fbee4d853d0>"
            ]
          },
          "metadata": {
            "tags": []
          },
          "execution_count": 18
        },
        {
          "output_type": "display_data",
          "data": {
            "image/png": "[encoded data removed]",
            "text/plain": [
              "<Figure size 360x360 with 1 Axes>"
            ]
          },
          "metadata": {
            "tags": [],
            "needs_background": "light"
          }
        }
      ]
    },
    {
      "cell_type": "code",
      "metadata": {
        "id": "Pvm4o9YJxpT9"
      },
      "source": [
        ""
      ],
      "execution_count": 18,
      "outputs": []
    }
  ]
}